{
  "nbformat": 4,
  "nbformat_minor": 0,
  "metadata": {
    "kernelspec": {
      "display_name": "Python 3",
      "language": "python",
      "name": "python3"
    },
    "language_info": {
      "codemirror_mode": {
        "name": "ipython",
        "version": 3
      },
      "file_extension": ".py",
      "mimetype": "text/x-python",
      "name": "python",
      "nbconvert_exporter": "python",
      "pygments_lexer": "ipython3",
      "version": "3.8.3"
    },
    "colab": {
      "name": " hw_lesson_1_nature_lang.ipynb",
      "provenance": [],
      "collapsed_sections": [],
      "include_colab_link": true
    }
  },
  "cells": [
    {
      "cell_type": "markdown",
      "metadata": {
        "id": "view-in-github",
        "colab_type": "text"
      },
      "source": [
        "<a href=\"https://colab.research.google.com/github/denisakatov/Natural-language-processing/blob/main/hw_lesson_1_nature_lang.ipynb\" target=\"_parent\"><img src=\"https://colab.research.google.com/assets/colab-badge.svg\" alt=\"Open In Colab\"/></a>"
      ]
    },
    {
      "cell_type": "markdown",
      "metadata": {
        "id": "Cs0p5zMkF83q"
      },
      "source": [
        "#HW 1"
      ]
    },
    {
      "cell_type": "code",
      "metadata": {
        "id": "G31jCOqyGJ6K"
      },
      "source": [
        "apostrophe_dict = {\n",
        "\"ain't\": \"am not / are not\",\n",
        "\"aren't\": \"are not / am not\",\n",
        "\"can't\": \"cannot\",\n",
        "\"can't've\": \"cannot have\",\n",
        "\"'cause\": \"because\",\n",
        "\"could've\": \"could have\",\n",
        "\"couldn't\": \"could not\",\n",
        "\"couldn't've\": \"could not have\",\n",
        "\"didn't\": \"did not\",\n",
        "\"doesn't\": \"does not\",\n",
        "\"don't\": \"do not\",\n",
        "\"hadn't\": \"had not\",\n",
        "\"hadn't've\": \"had not have\",\n",
        "\"hasn't\": \"has not\",\n",
        "\"haven't\": \"have not\",\n",
        "\"he'd\": \"he had / he would\",\n",
        "\"he'd've\": \"he would have\",\n",
        "\"he'll\": \"he shall / he will\",\n",
        "\"he'll've\": \"he shall have / he will have\",\n",
        "\"he's\": \"he has / he is\",\n",
        "\"how'd\": \"how did\",\n",
        "\"how'd'y\": \"how do you\",\n",
        "\"how'll\": \"how will\",\n",
        "\"how's\": \"how has / how is\",\n",
        "\"i'd\": \"I had / I would\",\n",
        "\"i'd've\": \"I would have\",\n",
        "\"i'll\": \"I shall / I will\",\n",
        "\"i'll've\": \"I shall have / I will have\",\n",
        "\"i'm\": \"I am\",\n",
        "\"i've\": \"I have\",\n",
        "\"isn't\": \"is not\",\n",
        "\"it'd\": \"it had / it would\",\n",
        "\"it'd've\": \"it would have\",\n",
        "\"it'll\": \"it shall / it will\",\n",
        "\"it'll've\": \"it shall have / it will have\",\n",
        "\"it's\": \"it has / it is\",\n",
        "\"let's\": \"let us\",\n",
        "\"ma'am\": \"madam\",\n",
        "\"mayn't\": \"may not\",\n",
        "\"might've\": \"might have\",\n",
        "\"mightn't\": \"might not\",\n",
        "\"mightn't've\": \"might not have\",\n",
        "\"must've\": \"must have\",\n",
        "\"mustn't\": \"must not\",\n",
        "\"mustn't've\": \"must not have\",\n",
        "\"needn't\": \"need not\",\n",
        "\"needn't've\": \"need not have\",\n",
        "\"o'clock\": \"of the clock\",\n",
        "\"oughtn't\": \"ought not\",\n",
        "\"oughtn't've\": \"ought not have\",\n",
        "\"shan't\": \"shall not\",\n",
        "\"sha'n't\": \"shall not\",\n",
        "\"shan't've\": \"shall not have\",\n",
        "\"she'd\": \"she had / she would\",\n",
        "\"she'd've\": \"she would have\",\n",
        "\"she'll\": \"she shall / she will\",\n",
        "\"she'll've\": \"she shall have / she will have\",\n",
        "\"she's\": \"she has / she is\",\n",
        "\"should've\": \"should have\",\n",
        "\"shouldn't\": \"should not\",\n",
        "\"shouldn't've\": \"should not have\",\n",
        "\"so've\": \"so have\",\n",
        "\"so's\": \"so as / so is\",\n",
        "\"that'd\": \"that would / that had\",\n",
        "\"that'd've\": \"that would have\",\n",
        "\"that's\": \"that has / that is\",\n",
        "\"there'd\": \"there had / there would\",\n",
        "\"there'd've\": \"there would have\",\n",
        "\"there's\": \"there has / there is\",\n",
        "\"they'd\": \"they had / they would\",\n",
        "\"they'd've\": \"they would have\",\n",
        "\"they'll\": \"they shall / they will\",\n",
        "\"they'll've\": \"they shall have / they will have\",\n",
        "\"they're\": \"they are\",\n",
        "\"they've\": \"they have\",\n",
        "\"to've\": \"to have\",\n",
        "\"wasn't\": \"was not\",\n",
        "\"we'd\": \"we had / we would\",\n",
        "\"we'd've\": \"we would have\",\n",
        "\"we'll\": \"we will\",\n",
        "\"we'll've\": \"we will have\",\n",
        "\"we're\": \"we are\",\n",
        "\"we've\": \"we have\",\n",
        "\"weren't\": \"were not\",\n",
        "\"what'll\": \"what shall / what will\",\n",
        "\"what'll've\": \"what shall have / what will have\",\n",
        "\"what're\": \"what are\",\n",
        "\"what's\": \"what has / what is\",\n",
        "\"what've\": \"what have\",\n",
        "\"when's\": \"when has / when is\",\n",
        "\"when've\": \"when have\",\n",
        "\"where'd\": \"where did\",\n",
        "\"where's\": \"where has / where is\",\n",
        "\"where've\": \"where have\",\n",
        "\"who'll\": \"who shall / who will\",\n",
        "\"who'll've\": \"who shall have / who will have\",\n",
        "\"who's\": \"who has / who is\",\n",
        "\"who've\": \"who have\",\n",
        "\"why's\": \"why has / why is\",\n",
        "\"why've\": \"why have\",\n",
        "\"will've\": \"will have\",\n",
        "\"won't\": \"will not\",\n",
        "\"won't've\": \"will not have\",\n",
        "\"would've\": \"would have\",\n",
        "\"wouldn't\": \"would not\",\n",
        "\"wouldn't've\": \"would not have\",\n",
        "\"y'all\": \"you all\",\n",
        "\"y'all'd\": \"you all would\",\n",
        "\"y'all'd've\": \"you all would have\",\n",
        "\"y'all're\": \"you all are\",\n",
        "\"y'all've\": \"you all have\",\n",
        "\"you'd\": \"you had / you would\",\n",
        "\"you'd've\": \"you would have\",\n",
        "\"you'll\": \"you shall / you will\",\n",
        "\"you'll've\": \"you shall have / you will have\",\n",
        "\"you're\": \"you are\",\n",
        "\"you've\": \"you have\"\n",
        "}\n",
        "\n",
        "\n",
        "\n",
        "short_word_dict = {\n",
        "\"121\": \"one to one\",\n",
        "\"a/s/l\": \"age, sex, location\",\n",
        "\"adn\": \"any day now\",\n",
        "\"afaik\": \"as far as I know\",\n",
        "\"afk\": \"away from keyboard\",\n",
        "\"aight\": \"alright\",\n",
        "\"alol\": \"actually laughing out loud\",\n",
        "\"b4\": \"before\",\n",
        "\"b4n\": \"bye for now\",\n",
        "\"bak\": \"back at the keyboard\",\n",
        "\"bf\": \"boyfriend\",\n",
        "\"bff\": \"best friends forever\",\n",
        "\"bfn\": \"bye for now\",\n",
        "\"bg\": \"big grin\",\n",
        "\"bta\": \"but then again\",\n",
        "\"btw\": \"by the way\",\n",
        "\"cid\": \"crying in disgrace\",\n",
        "\"cnp\": \"continued in my next post\",\n",
        "\"cp\": \"chat post\",\n",
        "\"cu\": \"see you\",\n",
        "\"cul\": \"see you later\",\n",
        "\"cul8r\": \"see you later\",\n",
        "\"cya\": \"bye\",\n",
        "\"cyo\": \"see you online\",\n",
        "\"dbau\": \"doing business as usual\",\n",
        "\"fud\": \"fear, uncertainty, and doubt\",\n",
        "\"fwiw\": \"for what it's worth\",\n",
        "\"fyi\": \"for your information\",\n",
        "\"g\": \"grin\",\n",
        "\"g2g\": \"got to go\",\n",
        "\"ga\": \"go ahead\",\n",
        "\"gal\": \"get a life\",\n",
        "\"gf\": \"girlfriend\",\n",
        "\"gfn\": \"gone for now\",\n",
        "\"gmbo\": \"giggling my butt off\",\n",
        "\"gmta\": \"great minds think alike\",\n",
        "\"h8\": \"hate\",\n",
        "\"hagn\": \"have a good night\",\n",
        "\"hdop\": \"help delete online predators\",\n",
        "\"hhis\": \"hanging head in shame\",\n",
        "\"iac\": \"in any case\",\n",
        "\"ianal\": \"I am not a lawyer\",\n",
        "\"ic\": \"I see\",\n",
        "\"idk\": \"I don't know\",\n",
        "\"imao\": \"in my arrogant opinion\",\n",
        "\"imnsho\": \"in my not so humble opinion\",\n",
        "\"imo\": \"in my opinion\",\n",
        "\"iow\": \"in other words\",\n",
        "\"ipn\": \"I’m posting naked\",\n",
        "\"irl\": \"in real life\",\n",
        "\"jk\": \"just kidding\",\n",
        "\"l8r\": \"later\",\n",
        "\"ld\": \"later, dude\",\n",
        "\"ldr\": \"long distance relationship\",\n",
        "\"llta\": \"lots and lots of thunderous applause\",\n",
        "\"lmao\": \"laugh my ass off\",\n",
        "\"lmirl\": \"let's meet in real life\",\n",
        "\"lol\": \"laugh out loud\",\n",
        "\"ltr\": \"longterm relationship\",\n",
        "\"lulab\": \"love you like a brother\",\n",
        "\"lulas\": \"love you like a sister\",\n",
        "\"luv\": \"love\",\n",
        "\"m/f\": \"male or female\",\n",
        "\"m8\": \"mate\",\n",
        "\"milf\": \"mother I would like to fuck\",\n",
        "\"oll\": \"online love\",\n",
        "\"omg\": \"oh my god\",\n",
        "\"otoh\": \"on the other hand\",\n",
        "\"pir\": \"parent in room\",\n",
        "\"ppl\": \"people\",\n",
        "\"r\": \"are\",\n",
        "\"rofl\": \"roll on the floor laughing\",\n",
        "\"rpg\": \"role playing games\",\n",
        "\"ru\": \"are you\",\n",
        "\"shid\": \"slaps head in disgust\",\n",
        "\"somy\": \"sick of me yet\",\n",
        "\"sot\": \"short of time\",\n",
        "\"thanx\": \"thanks\",\n",
        "\"thx\": \"thanks\",\n",
        "\"ttyl\": \"talk to you later\",\n",
        "\"u\": \"you\",\n",
        "\"ur\": \"you are\",\n",
        "\"uw\": \"you’re welcome\",\n",
        "\"wb\": \"welcome back\",\n",
        "\"wfm\": \"works for me\",\n",
        "\"wibni\": \"wouldn't it be nice if\",\n",
        "\"wtf\": \"what the fuck\",\n",
        "\"wtg\": \"way to go\",\n",
        "\"wtgp\": \"want to go private\",\n",
        "\"ym\": \"young man\",\n",
        "\"gr8\": \"great\"\n",
        "}\n",
        "\n",
        "\n",
        "emoticon_dict = {\n",
        "\":)\": \"happy\",\n",
        "\":‑)\": \"happy\",\n",
        "\":-]\": \"happy\",\n",
        "\":-3\": \"happy\",\n",
        "\":->\": \"happy\",\n",
        "\"8-)\": \"happy\",\n",
        "\":-}\": \"happy\",\n",
        "\":o)\": \"happy\",\n",
        "\":c)\": \"happy\",\n",
        "\":^)\": \"happy\",\n",
        "\"=]\": \"happy\",\n",
        "\"=)\": \"happy\",\n",
        "\"<3\": \"happy\",\n",
        "\":-(\": \"sad\",\n",
        "\":(\": \"sad\",\n",
        "\":c\": \"sad\",\n",
        "\":<\": \"sad\",\n",
        "\":[\": \"sad\",\n",
        "\">:[\": \"sad\",\n",
        "\":{\": \"sad\",\n",
        "\">:(\": \"sad\",\n",
        "\":-c\": \"sad\",\n",
        "\":-< \": \"sad\",\n",
        "\":-[\": \"sad\",\n",
        "\":-||\": \"sad\"\n",
        "}"
      ],
      "execution_count": 1,
      "outputs": []
    },
    {
      "cell_type": "markdown",
      "metadata": {
        "id": "df0HTnkX_Faf"
      },
      "source": [
        "Осуществим предобработку данных с Твиттера, чтобы отчищенный данные в дальнейшем использовать для задачи классификации. Данный датасет содержит негативные (label = 1) и нейтральные (label = 0) высказывания.\n",
        "Для работы объединим train_df и test_df.\n",
        "\n",
        "Задания:\n",
        "\n",
        "1) Удалим @user из всех твитов с помощью паттерна \"@[\\w]*\". Для этого создадим функцию: \n",
        " - для того, чтобы найти все вхождения паттерна в тексте, необходимо использовать re.findall(pattern, input_txt)\n",
        " - для для замены @user на пробел, необходимо использовать re.sub()\n",
        "при применении функции необходимо использовать np.vectorize(function).\n",
        "\n",
        "2) Изменим регистр твитов на нижний с помощью .lower().\n",
        "\n",
        "3) Заменим сокращения с апострофами (пример: ain't, can't) на пробел, используя apostrophe_dict. Для этого необходимо сделать функцию: для каждого слова в тексте проверить (for word in text.split()), если слово есть в словаре apostrophe_dict в качестве ключа (сокращенного слова), то заменить ключ на значение (полную версию слова).\n",
        "\n",
        "4) Заменим сокращения на их полные формы, используя short_word_dict. Для этого воспользуемся функцией, используемой в предыдущем пункте.\n",
        "\n",
        "5) Заменим эмотиконы (пример: \":)\" = \"happy\") на пробелы, используя emoticon_dict. Для этого воспользуемся функцией, используемой в предыдущем пункте.\n",
        "\n",
        "6) Заменим пунктуацию на пробелы, используя re.sub() и паттерн r'[^\\w\\s]'.\n",
        "\n",
        "7) Заменим спец. символы на пробелы, используя re.sub() и паттерн r'[^a-zA-Z0-9]'.\n",
        "\n",
        "8) Заменим числа на пробелы, используя re.sub() и паттерн r'[^a-zA-Z]'.\n",
        "\n",
        "9) Удалим из текста слова длиной в 1 символ, используя ' '.join([w for w in x.split() if len(w)>1]).\n",
        "\n",
        "10) Поделим твиты на токены с помощью nltk.tokenize.word_tokenize, создав новый столбец 'tweet_token'.\n",
        "\n",
        "11) Удалим стоп-слова из токенов, используя nltk.corpus.stopwords. Создадим столбец 'tweet_token_filtered' без стоп-слов.\n",
        "\n",
        "12) Применим стемминг к токенам с помощью nltk.stem.PorterStemmer. Создадим столбец 'tweet_stemmed' после применения стемминга.\n",
        "\n",
        "13) Применим лемматизацию к токенам с помощью nltk.stem.wordnet.WordNetLemmatizer. Создадим столбец 'tweet_lemmatized' после применения лемматизации.\n",
        "\n",
        "14) Сохраним результат предобработки в pickle-файл."
      ]
    },
    {
      "cell_type": "code",
      "metadata": {
        "id": "tHYLUc66zoji",
        "colab": {
          "base_uri": "https://localhost:8080/"
        },
        "outputId": "e713302d-c016-4661-fdc1-2be4c9cbb162"
      },
      "source": [
        "from google.colab import drive\n",
        "drive.mount('/content/drive')"
      ],
      "execution_count": 2,
      "outputs": [
        {
          "output_type": "stream",
          "text": [
            "Mounted at /content/drive\n"
          ],
          "name": "stdout"
        }
      ]
    },
    {
      "cell_type": "code",
      "metadata": {
        "id": "pkKXKtZr_Fap"
      },
      "source": [
        "import pandas as pd\n",
        "import numpy as np\n",
        "import re\n",
        "import matplotlib.pyplot as plt\n",
        "import seaborn as sns\n",
        "import nltk\n",
        "import warnings \n",
        "warnings.filterwarnings(\"ignore\", category=DeprecationWarning)\n",
        "import os"
      ],
      "execution_count": 3,
      "outputs": []
    },
    {
      "cell_type": "code",
      "metadata": {
        "id": "5aaY7Ngd_Faq",
        "colab": {
          "base_uri": "https://localhost:8080/",
          "height": 204
        },
        "outputId": "30b0b2e3-2eed-4f23-9ec4-e0ba7a4bd333"
      },
      "source": [
        "train_df = pd.read_csv('/content/drive/MyDrive/Colab Notebooks/Обработка естественного языка/1/train_tweets.csv')\n",
        "train_df.head()"
      ],
      "execution_count": 4,
      "outputs": [
        {
          "output_type": "execute_result",
          "data": {
            "text/html": [
              "<div>\n",
              "<style scoped>\n",
              "    .dataframe tbody tr th:only-of-type {\n",
              "        vertical-align: middle;\n",
              "    }\n",
              "\n",
              "    .dataframe tbody tr th {\n",
              "        vertical-align: top;\n",
              "    }\n",
              "\n",
              "    .dataframe thead th {\n",
              "        text-align: right;\n",
              "    }\n",
              "</style>\n",
              "<table border=\"1\" class=\"dataframe\">\n",
              "  <thead>\n",
              "    <tr style=\"text-align: right;\">\n",
              "      <th></th>\n",
              "      <th>id</th>\n",
              "      <th>label</th>\n",
              "      <th>tweet</th>\n",
              "    </tr>\n",
              "  </thead>\n",
              "  <tbody>\n",
              "    <tr>\n",
              "      <th>0</th>\n",
              "      <td>1</td>\n",
              "      <td>0</td>\n",
              "      <td>@user when a father is dysfunctional and is s...</td>\n",
              "    </tr>\n",
              "    <tr>\n",
              "      <th>1</th>\n",
              "      <td>2</td>\n",
              "      <td>0</td>\n",
              "      <td>@user @user thanks for #lyft credit i can't us...</td>\n",
              "    </tr>\n",
              "    <tr>\n",
              "      <th>2</th>\n",
              "      <td>3</td>\n",
              "      <td>0</td>\n",
              "      <td>bihday your majesty</td>\n",
              "    </tr>\n",
              "    <tr>\n",
              "      <th>3</th>\n",
              "      <td>4</td>\n",
              "      <td>0</td>\n",
              "      <td>#model   i love u take with u all the time in ...</td>\n",
              "    </tr>\n",
              "    <tr>\n",
              "      <th>4</th>\n",
              "      <td>5</td>\n",
              "      <td>0</td>\n",
              "      <td>factsguide: society now    #motivation</td>\n",
              "    </tr>\n",
              "  </tbody>\n",
              "</table>\n",
              "</div>"
            ],
            "text/plain": [
              "   id  label                                              tweet\n",
              "0   1      0   @user when a father is dysfunctional and is s...\n",
              "1   2      0  @user @user thanks for #lyft credit i can't us...\n",
              "2   3      0                                bihday your majesty\n",
              "3   4      0  #model   i love u take with u all the time in ...\n",
              "4   5      0             factsguide: society now    #motivation"
            ]
          },
          "metadata": {
            "tags": []
          },
          "execution_count": 4
        }
      ]
    },
    {
      "cell_type": "code",
      "metadata": {
        "id": "cyC0LsB3_Fas",
        "colab": {
          "base_uri": "https://localhost:8080/",
          "height": 204
        },
        "outputId": "897ea155-92c6-4cd7-97eb-99ac1283ed49"
      },
      "source": [
        "test_df = pd.read_csv('/content/drive/MyDrive/Colab Notebooks/Обработка естественного языка/1/test_tweets.csv')\n",
        "test_df.head()"
      ],
      "execution_count": 5,
      "outputs": [
        {
          "output_type": "execute_result",
          "data": {
            "text/html": [
              "<div>\n",
              "<style scoped>\n",
              "    .dataframe tbody tr th:only-of-type {\n",
              "        vertical-align: middle;\n",
              "    }\n",
              "\n",
              "    .dataframe tbody tr th {\n",
              "        vertical-align: top;\n",
              "    }\n",
              "\n",
              "    .dataframe thead th {\n",
              "        text-align: right;\n",
              "    }\n",
              "</style>\n",
              "<table border=\"1\" class=\"dataframe\">\n",
              "  <thead>\n",
              "    <tr style=\"text-align: right;\">\n",
              "      <th></th>\n",
              "      <th>id</th>\n",
              "      <th>tweet</th>\n",
              "    </tr>\n",
              "  </thead>\n",
              "  <tbody>\n",
              "    <tr>\n",
              "      <th>0</th>\n",
              "      <td>31963</td>\n",
              "      <td>#studiolife #aislife #requires #passion #dedic...</td>\n",
              "    </tr>\n",
              "    <tr>\n",
              "      <th>1</th>\n",
              "      <td>31964</td>\n",
              "      <td>@user #white #supremacists want everyone to s...</td>\n",
              "    </tr>\n",
              "    <tr>\n",
              "      <th>2</th>\n",
              "      <td>31965</td>\n",
              "      <td>safe ways to heal your #acne!!    #altwaystohe...</td>\n",
              "    </tr>\n",
              "    <tr>\n",
              "      <th>3</th>\n",
              "      <td>31966</td>\n",
              "      <td>is the hp and the cursed child book up for res...</td>\n",
              "    </tr>\n",
              "    <tr>\n",
              "      <th>4</th>\n",
              "      <td>31967</td>\n",
              "      <td>3rd #bihday to my amazing, hilarious #nephew...</td>\n",
              "    </tr>\n",
              "  </tbody>\n",
              "</table>\n",
              "</div>"
            ],
            "text/plain": [
              "      id                                              tweet\n",
              "0  31963  #studiolife #aislife #requires #passion #dedic...\n",
              "1  31964   @user #white #supremacists want everyone to s...\n",
              "2  31965  safe ways to heal your #acne!!    #altwaystohe...\n",
              "3  31966  is the hp and the cursed child book up for res...\n",
              "4  31967    3rd #bihday to my amazing, hilarious #nephew..."
            ]
          },
          "metadata": {
            "tags": []
          },
          "execution_count": 5
        }
      ]
    },
    {
      "cell_type": "code",
      "metadata": {
        "id": "jHUAovlq_Fas",
        "colab": {
          "base_uri": "https://localhost:8080/",
          "height": 204
        },
        "outputId": "2dbf90ec-f717-4173-9ffb-23b9db29e326"
      },
      "source": [
        "combine_df = train_df.append(test_df, ignore_index = True, sort = False)\n",
        "combine_df.head()"
      ],
      "execution_count": 6,
      "outputs": [
        {
          "output_type": "execute_result",
          "data": {
            "text/html": [
              "<div>\n",
              "<style scoped>\n",
              "    .dataframe tbody tr th:only-of-type {\n",
              "        vertical-align: middle;\n",
              "    }\n",
              "\n",
              "    .dataframe tbody tr th {\n",
              "        vertical-align: top;\n",
              "    }\n",
              "\n",
              "    .dataframe thead th {\n",
              "        text-align: right;\n",
              "    }\n",
              "</style>\n",
              "<table border=\"1\" class=\"dataframe\">\n",
              "  <thead>\n",
              "    <tr style=\"text-align: right;\">\n",
              "      <th></th>\n",
              "      <th>id</th>\n",
              "      <th>label</th>\n",
              "      <th>tweet</th>\n",
              "    </tr>\n",
              "  </thead>\n",
              "  <tbody>\n",
              "    <tr>\n",
              "      <th>0</th>\n",
              "      <td>1</td>\n",
              "      <td>0.0</td>\n",
              "      <td>@user when a father is dysfunctional and is s...</td>\n",
              "    </tr>\n",
              "    <tr>\n",
              "      <th>1</th>\n",
              "      <td>2</td>\n",
              "      <td>0.0</td>\n",
              "      <td>@user @user thanks for #lyft credit i can't us...</td>\n",
              "    </tr>\n",
              "    <tr>\n",
              "      <th>2</th>\n",
              "      <td>3</td>\n",
              "      <td>0.0</td>\n",
              "      <td>bihday your majesty</td>\n",
              "    </tr>\n",
              "    <tr>\n",
              "      <th>3</th>\n",
              "      <td>4</td>\n",
              "      <td>0.0</td>\n",
              "      <td>#model   i love u take with u all the time in ...</td>\n",
              "    </tr>\n",
              "    <tr>\n",
              "      <th>4</th>\n",
              "      <td>5</td>\n",
              "      <td>0.0</td>\n",
              "      <td>factsguide: society now    #motivation</td>\n",
              "    </tr>\n",
              "  </tbody>\n",
              "</table>\n",
              "</div>"
            ],
            "text/plain": [
              "   id  label                                              tweet\n",
              "0   1    0.0   @user when a father is dysfunctional and is s...\n",
              "1   2    0.0  @user @user thanks for #lyft credit i can't us...\n",
              "2   3    0.0                                bihday your majesty\n",
              "3   4    0.0  #model   i love u take with u all the time in ...\n",
              "4   5    0.0             factsguide: society now    #motivation"
            ]
          },
          "metadata": {
            "tags": []
          },
          "execution_count": 6
        }
      ]
    },
    {
      "cell_type": "code",
      "metadata": {
        "id": "fcO2oSbk_Fat",
        "colab": {
          "base_uri": "https://localhost:8080/"
        },
        "outputId": "718da108-6cfd-4faa-bbb5-c2e5d2bb0ea6"
      },
      "source": [
        "print(combine_df.info())"
      ],
      "execution_count": 7,
      "outputs": [
        {
          "output_type": "stream",
          "text": [
            "<class 'pandas.core.frame.DataFrame'>\n",
            "RangeIndex: 49159 entries, 0 to 49158\n",
            "Data columns (total 3 columns):\n",
            " #   Column  Non-Null Count  Dtype  \n",
            "---  ------  --------------  -----  \n",
            " 0   id      49159 non-null  int64  \n",
            " 1   label   31962 non-null  float64\n",
            " 2   tweet   49159 non-null  object \n",
            "dtypes: float64(1), int64(1), object(1)\n",
            "memory usage: 1.1+ MB\n",
            "None\n"
          ],
          "name": "stdout"
        }
      ]
    },
    {
      "cell_type": "markdown",
      "metadata": {
        "id": "wiuJh1_t_Fat"
      },
      "source": [
        "2. Удалим @user из всех твитов с помощью паттерна \"@[\\w]*\". Для этого создадим функцию: \n",
        " - для того, чтобы найти все вхождения паттерна в тексте, необходимо использовать re.findall(pattern, input_txt)\n",
        " - для для замены @user на пробел, необходимо использовать re.sub()\n",
        "при применении функции необходимо использовать np.vectorize(function)\n"
      ]
    },
    {
      "cell_type": "code",
      "metadata": {
        "colab": {
          "base_uri": "https://localhost:8080/"
        },
        "id": "FnO1RucVO6dZ",
        "outputId": "cac589b2-047e-4334-af4c-0128efe9fe54"
      },
      "source": [
        "combine_df.tweet.head()"
      ],
      "execution_count": 8,
      "outputs": [
        {
          "output_type": "execute_result",
          "data": {
            "text/plain": [
              "0     @user when a father is dysfunctional and is s...\n",
              "1    @user @user thanks for #lyft credit i can't us...\n",
              "2                                  bihday your majesty\n",
              "3    #model   i love u take with u all the time in ...\n",
              "4               factsguide: society now    #motivation\n",
              "Name: tweet, dtype: object"
            ]
          },
          "metadata": {
            "tags": []
          },
          "execution_count": 8
        }
      ]
    },
    {
      "cell_type": "code",
      "metadata": {
        "id": "QKiRTxUpqXnm"
      },
      "source": [
        "def del_mail(text):\n",
        "  pattern = r'@[\\w]*'\n",
        "  result = re.findall(pattern, text)\n",
        "  for i in result:\n",
        "    text = re.sub(i, ' ', text)\n",
        "\n",
        "  # text = re.sub(pattern, ' ', text) # без цикла и применения findall было бы, наверное, правильнее\n",
        "  return text\n"
      ],
      "execution_count": 9,
      "outputs": []
    },
    {
      "cell_type": "code",
      "metadata": {
        "id": "4BFIDZ2dL_KX"
      },
      "source": [
        "combine_df_2 = combine_df.tweet.apply(np.vectorize(del_mail))"
      ],
      "execution_count": 10,
      "outputs": []
    },
    {
      "cell_type": "code",
      "metadata": {
        "colab": {
          "base_uri": "https://localhost:8080/"
        },
        "id": "3kOVAzwzO187",
        "outputId": "3c7ac281-b129-44db-ec09-69ee7f245aea"
      },
      "source": [
        "combine_df_2"
      ],
      "execution_count": 11,
      "outputs": [
        {
          "output_type": "execute_result",
          "data": {
            "text/plain": [
              "0           when a father is dysfunctional and is so se...\n",
              "1            thanks for #lyft credit i can't use cause ...\n",
              "2                                      bihday your majesty\n",
              "3        #model   i love u take with u all the time in ...\n",
              "4                   factsguide: society now    #motivation\n",
              "                               ...                        \n",
              "49154    thought factory: left-right polarisation! #tru...\n",
              "49155    feeling like a mermaid ð #hairflip #neverre...\n",
              "49156    #hillary #campaigned today in #ohio((omg)) &am...\n",
              "49157    happy, at work conference: right mindset leads...\n",
              "49158    my   song \"so glad\" free download!  #shoegaze ...\n",
              "Name: tweet, Length: 49159, dtype: object"
            ]
          },
          "metadata": {
            "tags": []
          },
          "execution_count": 11
        }
      ]
    },
    {
      "cell_type": "markdown",
      "metadata": {
        "id": "LwGug5cX_Fau"
      },
      "source": [
        "3. Изменим регистр твитов на нижний с помощью .lower()"
      ]
    },
    {
      "cell_type": "code",
      "metadata": {
        "id": "Ugbl3wo9Mx9C"
      },
      "source": [
        "def lower_text(text):\n",
        "    text = text.lower()\n",
        "    return text"
      ],
      "execution_count": 12,
      "outputs": []
    },
    {
      "cell_type": "code",
      "metadata": {
        "id": "u4_NoQJTM25Z"
      },
      "source": [
        "combine_df_3 = combine_df_2.apply(np.vectorize(lower_text))"
      ],
      "execution_count": 13,
      "outputs": []
    },
    {
      "cell_type": "code",
      "metadata": {
        "colab": {
          "base_uri": "https://localhost:8080/"
        },
        "id": "LviuhdRmO_DS",
        "outputId": "99a1bf4b-32b4-421c-e00a-3c75749b98d7"
      },
      "source": [
        "combine_df_3"
      ],
      "execution_count": 14,
      "outputs": [
        {
          "output_type": "execute_result",
          "data": {
            "text/plain": [
              "0           when a father is dysfunctional and is so se...\n",
              "1            thanks for #lyft credit i can't use cause ...\n",
              "2                                      bihday your majesty\n",
              "3        #model   i love u take with u all the time in ...\n",
              "4                   factsguide: society now    #motivation\n",
              "                               ...                        \n",
              "49154    thought factory: left-right polarisation! #tru...\n",
              "49155    feeling like a mermaid ð #hairflip #neverre...\n",
              "49156    #hillary #campaigned today in #ohio((omg)) &am...\n",
              "49157    happy, at work conference: right mindset leads...\n",
              "49158    my   song \"so glad\" free download!  #shoegaze ...\n",
              "Name: tweet, Length: 49159, dtype: object"
            ]
          },
          "metadata": {
            "tags": []
          },
          "execution_count": 14
        }
      ]
    },
    {
      "cell_type": "markdown",
      "metadata": {
        "id": "VPx_Xf3B_Fau"
      },
      "source": [
        "4. Заменим сокращения с апострофами (пример: ain't, can't) на пробел, используя apostrophe_dict. Для этого необходимо сделать функцию: для каждого слова в тексте проверить (for word in text.split()), если слово есть в словаре apostrophe_dict в качестве ключа (сокращенного слова), то заменить ключ на значение (полную версию слова)."
      ]
    },
    {
      "cell_type": "code",
      "metadata": {
        "colab": {
          "base_uri": "https://localhost:8080/"
        },
        "id": "vXMI3dXghn_8",
        "outputId": "222f68e5-c0c5-4b9d-ffd2-7d2b206782f2"
      },
      "source": [
        "apostrophe_dict.keys()"
      ],
      "execution_count": 15,
      "outputs": [
        {
          "output_type": "execute_result",
          "data": {
            "text/plain": [
              "dict_keys([\"ain't\", \"aren't\", \"can't\", \"can't've\", \"'cause\", \"could've\", \"couldn't\", \"couldn't've\", \"didn't\", \"doesn't\", \"don't\", \"hadn't\", \"hadn't've\", \"hasn't\", \"haven't\", \"he'd\", \"he'd've\", \"he'll\", \"he'll've\", \"he's\", \"how'd\", \"how'd'y\", \"how'll\", \"how's\", \"i'd\", \"i'd've\", \"i'll\", \"i'll've\", \"i'm\", \"i've\", \"isn't\", \"it'd\", \"it'd've\", \"it'll\", \"it'll've\", \"it's\", \"let's\", \"ma'am\", \"mayn't\", \"might've\", \"mightn't\", \"mightn't've\", \"must've\", \"mustn't\", \"mustn't've\", \"needn't\", \"needn't've\", \"o'clock\", \"oughtn't\", \"oughtn't've\", \"shan't\", \"sha'n't\", \"shan't've\", \"she'd\", \"she'd've\", \"she'll\", \"she'll've\", \"she's\", \"should've\", \"shouldn't\", \"shouldn't've\", \"so've\", \"so's\", \"that'd\", \"that'd've\", \"that's\", \"there'd\", \"there'd've\", \"there's\", \"they'd\", \"they'd've\", \"they'll\", \"they'll've\", \"they're\", \"they've\", \"to've\", \"wasn't\", \"we'd\", \"we'd've\", \"we'll\", \"we'll've\", \"we're\", \"we've\", \"weren't\", \"what'll\", \"what'll've\", \"what're\", \"what's\", \"what've\", \"when's\", \"when've\", \"where'd\", \"where's\", \"where've\", \"who'll\", \"who'll've\", \"who's\", \"who've\", \"why's\", \"why've\", \"will've\", \"won't\", \"won't've\", \"would've\", \"wouldn't\", \"wouldn't've\", \"y'all\", \"y'all'd\", \"y'all'd've\", \"y'all're\", \"y'all've\", \"you'd\", \"you'd've\", \"you'll\", \"you'll've\", \"you're\", \"you've\"])"
            ]
          },
          "metadata": {
            "tags": []
          },
          "execution_count": 15
        }
      ]
    },
    {
      "cell_type": "code",
      "metadata": {
        "id": "ukjFXJybXREt"
      },
      "source": [
        "def apostrophe_func(text, voc):\n",
        "    for word in text.split():\n",
        "        if word in voc.keys():\n",
        "            text.replace(word, voc.get(word))\n",
        "        \n",
        "    return text"
      ],
      "execution_count": 16,
      "outputs": []
    },
    {
      "cell_type": "code",
      "metadata": {
        "id": "WNrHnsfeTXI_"
      },
      "source": [
        "combine_df_4 = combine_df_3.apply(lambda x: apostrophe_func(x, apostrophe_dict))\n"
      ],
      "execution_count": 17,
      "outputs": []
    },
    {
      "cell_type": "code",
      "metadata": {
        "colab": {
          "base_uri": "https://localhost:8080/"
        },
        "id": "b4cenAhDZUze",
        "outputId": "0af443f4-5b04-407a-d250-c00cf1e3a37d"
      },
      "source": [
        "combine_df_4"
      ],
      "execution_count": 18,
      "outputs": [
        {
          "output_type": "execute_result",
          "data": {
            "text/plain": [
              "0           when a father is dysfunctional and is so se...\n",
              "1            thanks for #lyft credit i can't use cause ...\n",
              "2                                      bihday your majesty\n",
              "3        #model   i love u take with u all the time in ...\n",
              "4                   factsguide: society now    #motivation\n",
              "                               ...                        \n",
              "49154    thought factory: left-right polarisation! #tru...\n",
              "49155    feeling like a mermaid ð #hairflip #neverre...\n",
              "49156    #hillary #campaigned today in #ohio((omg)) &am...\n",
              "49157    happy, at work conference: right mindset leads...\n",
              "49158    my   song \"so glad\" free download!  #shoegaze ...\n",
              "Name: tweet, Length: 49159, dtype: object"
            ]
          },
          "metadata": {
            "tags": []
          },
          "execution_count": 18
        }
      ]
    },
    {
      "cell_type": "markdown",
      "metadata": {
        "id": "MV8FHEex_Fau"
      },
      "source": [
        "5. Заменим сокращения на их полные формы, используя short_word_dict. Для этого воспользуемся функцией, используемой в предыдущем пункте."
      ]
    },
    {
      "cell_type": "code",
      "metadata": {
        "id": "atKFXgEekIj8"
      },
      "source": [
        "combine_df_5 = combine_df_4.apply(lambda x: apostrophe_func(x, short_word_dict))"
      ],
      "execution_count": 19,
      "outputs": []
    },
    {
      "cell_type": "code",
      "metadata": {
        "colab": {
          "base_uri": "https://localhost:8080/"
        },
        "id": "LAhwUyvQlMPS",
        "outputId": "2b252654-7cc1-4f80-ac94-cd8e6973b162"
      },
      "source": [
        "combine_df_5"
      ],
      "execution_count": 20,
      "outputs": [
        {
          "output_type": "execute_result",
          "data": {
            "text/plain": [
              "0           when a father is dysfunctional and is so se...\n",
              "1            thanks for #lyft credit i can't use cause ...\n",
              "2                                      bihday your majesty\n",
              "3        #model   i love u take with u all the time in ...\n",
              "4                   factsguide: society now    #motivation\n",
              "                               ...                        \n",
              "49154    thought factory: left-right polarisation! #tru...\n",
              "49155    feeling like a mermaid ð #hairflip #neverre...\n",
              "49156    #hillary #campaigned today in #ohio((omg)) &am...\n",
              "49157    happy, at work conference: right mindset leads...\n",
              "49158    my   song \"so glad\" free download!  #shoegaze ...\n",
              "Name: tweet, Length: 49159, dtype: object"
            ]
          },
          "metadata": {
            "tags": []
          },
          "execution_count": 20
        }
      ]
    },
    {
      "cell_type": "markdown",
      "metadata": {
        "id": "ncxbUOxe_Fau"
      },
      "source": [
        "6. Заменим эмотиконы (пример: \":)\" = \"happy\") на пробелы, используя emoticon_dict. Для этого воспользуемся функцией, используемой в предыдущем пункте."
      ]
    },
    {
      "cell_type": "code",
      "metadata": {
        "colab": {
          "base_uri": "https://localhost:8080/"
        },
        "id": "6h9CcTP3mIcl",
        "outputId": "0b502ed2-7774-4d4e-b0dc-d870ac8fd277"
      },
      "source": [
        "combine_df_6 = combine_df_5.apply(lambda x: apostrophe_func(x, emoticon_dict)) \n",
        "combine_df_6"
      ],
      "execution_count": 21,
      "outputs": [
        {
          "output_type": "execute_result",
          "data": {
            "text/plain": [
              "0           when a father is dysfunctional and is so se...\n",
              "1            thanks for #lyft credit i can't use cause ...\n",
              "2                                      bihday your majesty\n",
              "3        #model   i love u take with u all the time in ...\n",
              "4                   factsguide: society now    #motivation\n",
              "                               ...                        \n",
              "49154    thought factory: left-right polarisation! #tru...\n",
              "49155    feeling like a mermaid ð #hairflip #neverre...\n",
              "49156    #hillary #campaigned today in #ohio((omg)) &am...\n",
              "49157    happy, at work conference: right mindset leads...\n",
              "49158    my   song \"so glad\" free download!  #shoegaze ...\n",
              "Name: tweet, Length: 49159, dtype: object"
            ]
          },
          "metadata": {
            "tags": []
          },
          "execution_count": 21
        }
      ]
    },
    {
      "cell_type": "markdown",
      "metadata": {
        "id": "4_7_RSmU_Fau"
      },
      "source": [
        "7. Заменим пунктуацию на пробелы, используя re.sub() и паттерн r'[^\\w\\s]'"
      ]
    },
    {
      "cell_type": "code",
      "metadata": {
        "id": "TKu3qOZgzLfB"
      },
      "source": [
        "def punctuation_del(text):\n",
        "    return re.sub(r'[^\\w\\s]', ' ', text)"
      ],
      "execution_count": 22,
      "outputs": []
    },
    {
      "cell_type": "code",
      "metadata": {
        "id": "KQzCLn2lz3IB"
      },
      "source": [
        "combine_df_7 = combine_df_6.apply(punctuation_del)"
      ],
      "execution_count": 23,
      "outputs": []
    },
    {
      "cell_type": "code",
      "metadata": {
        "colab": {
          "base_uri": "https://localhost:8080/"
        },
        "id": "Pl-t6NjR23L0",
        "outputId": "77b5b99b-5041-458e-c623-58f0d849ddb5"
      },
      "source": [
        "combine_df_7"
      ],
      "execution_count": 24,
      "outputs": [
        {
          "output_type": "execute_result",
          "data": {
            "text/plain": [
              "0           when a father is dysfunctional and is so se...\n",
              "1            thanks for  lyft credit i can t use cause ...\n",
              "2                                      bihday your majesty\n",
              "3         model   i love u take with u all the time in ...\n",
              "4                   factsguide  society now     motivation\n",
              "                               ...                        \n",
              "49154    thought factory  left right polarisation   tru...\n",
              "49155    feeling like a mermaid ð     hairflip  neverre...\n",
              "49156     hillary  campaigned today in  ohio  omg    am...\n",
              "49157    happy  at work conference  right mindset leads...\n",
              "49158    my   song  so glad  free download    shoegaze ...\n",
              "Name: tweet, Length: 49159, dtype: object"
            ]
          },
          "metadata": {
            "tags": []
          },
          "execution_count": 24
        }
      ]
    },
    {
      "cell_type": "markdown",
      "metadata": {
        "id": "qHchKr-3_Fau"
      },
      "source": [
        "8. Заменим спец. символы на пробелы, используя re.sub() и паттерн r'[^a-zA-Z0-9]'"
      ]
    },
    {
      "cell_type": "code",
      "metadata": {
        "id": "7jlg9YCC3PwA"
      },
      "source": [
        "def spec_symbol_del(text):\n",
        "    return re.sub(r'[^a-zA-Z0-9]', ' ', text)"
      ],
      "execution_count": 25,
      "outputs": []
    },
    {
      "cell_type": "code",
      "metadata": {
        "colab": {
          "base_uri": "https://localhost:8080/"
        },
        "id": "KB39_H-s3KlE",
        "outputId": "40bb9e76-2c04-4e8b-ba01-65c1c0c2d77d"
      },
      "source": [
        "combine_df_8 = combine_df_7.apply(spec_symbol_del)\n",
        "combine_df_8"
      ],
      "execution_count": 26,
      "outputs": [
        {
          "output_type": "execute_result",
          "data": {
            "text/plain": [
              "0           when a father is dysfunctional and is so se...\n",
              "1            thanks for  lyft credit i can t use cause ...\n",
              "2                                      bihday your majesty\n",
              "3         model   i love u take with u all the time in ...\n",
              "4                   factsguide  society now     motivation\n",
              "                               ...                        \n",
              "49154    thought factory  left right polarisation   tru...\n",
              "49155    feeling like a mermaid       hairflip  neverre...\n",
              "49156     hillary  campaigned today in  ohio  omg    am...\n",
              "49157    happy  at work conference  right mindset leads...\n",
              "49158    my   song  so glad  free download    shoegaze ...\n",
              "Name: tweet, Length: 49159, dtype: object"
            ]
          },
          "metadata": {
            "tags": []
          },
          "execution_count": 26
        }
      ]
    },
    {
      "cell_type": "markdown",
      "metadata": {
        "id": "T9wH12lY_Fav"
      },
      "source": [
        "9. Заменим числа на пробелы, используя re.sub() и паттерн r'[^a-zA-Z]'"
      ]
    },
    {
      "cell_type": "code",
      "metadata": {
        "id": "74bmi0Be3ndn"
      },
      "source": [
        "def numbers_del(text):\n",
        "    return re.sub(r'[^a-zA-Z]', ' ', text)"
      ],
      "execution_count": 27,
      "outputs": []
    },
    {
      "cell_type": "code",
      "metadata": {
        "colab": {
          "base_uri": "https://localhost:8080/"
        },
        "id": "zR5qWOSz31Gy",
        "outputId": "bd32afca-5122-4b67-ed24-cf72d83ab6aa"
      },
      "source": [
        "combine_df_9 = combine_df_8.apply(numbers_del)\n",
        "combine_df_9"
      ],
      "execution_count": 28,
      "outputs": [
        {
          "output_type": "execute_result",
          "data": {
            "text/plain": [
              "0           when a father is dysfunctional and is so se...\n",
              "1            thanks for  lyft credit i can t use cause ...\n",
              "2                                      bihday your majesty\n",
              "3         model   i love u take with u all the time in ...\n",
              "4                   factsguide  society now     motivation\n",
              "                               ...                        \n",
              "49154    thought factory  left right polarisation   tru...\n",
              "49155    feeling like a mermaid       hairflip  neverre...\n",
              "49156     hillary  campaigned today in  ohio  omg    am...\n",
              "49157    happy  at work conference  right mindset leads...\n",
              "49158    my   song  so glad  free download    shoegaze ...\n",
              "Name: tweet, Length: 49159, dtype: object"
            ]
          },
          "metadata": {
            "tags": []
          },
          "execution_count": 28
        }
      ]
    },
    {
      "cell_type": "markdown",
      "metadata": {
        "id": "bSI1cbof_Fav"
      },
      "source": [
        "10. Удалим из текста слова длиной в 1 символ, используя ' '.join([w for w in x.split() if len(w)>1])"
      ]
    },
    {
      "cell_type": "code",
      "metadata": {
        "id": "FahALoX74ifl"
      },
      "source": [
        "combine_df_10 = combine_df_9.apply(lambda x: ' '.join([w for w in x.split() if len(w)>1]))"
      ],
      "execution_count": 29,
      "outputs": []
    },
    {
      "cell_type": "code",
      "metadata": {
        "colab": {
          "base_uri": "https://localhost:8080/"
        },
        "id": "vixKdbpg59y2",
        "outputId": "8cfa11d4-16bf-45bb-9325-9e58c9d6c9e7"
      },
      "source": [
        "combine_df_10"
      ],
      "execution_count": 30,
      "outputs": [
        {
          "output_type": "execute_result",
          "data": {
            "text/plain": [
              "0        when father is dysfunctional and is so selfish...\n",
              "1        thanks for lyft credit can use cause they don ...\n",
              "2                                      bihday your majesty\n",
              "3                  model love take with all the time in ur\n",
              "4                        factsguide society now motivation\n",
              "                               ...                        \n",
              "49154    thought factory left right polarisation trump ...\n",
              "49155    feeling like mermaid hairflip neverready forma...\n",
              "49156    hillary campaigned today in ohio omg amp used ...\n",
              "49157    happy at work conference right mindset leads t...\n",
              "49158    my song so glad free download shoegaze newmusi...\n",
              "Name: tweet, Length: 49159, dtype: object"
            ]
          },
          "metadata": {
            "tags": []
          },
          "execution_count": 30
        }
      ]
    },
    {
      "cell_type": "markdown",
      "metadata": {
        "id": "c8wmiO9k_Fav"
      },
      "source": [
        "11. Поделим твиты на токены с помощью nltk.tokenize.word_tokenize, создав новый столбец 'tweet_token'."
      ]
    },
    {
      "cell_type": "code",
      "metadata": {
        "colab": {
          "base_uri": "https://localhost:8080/"
        },
        "id": "GwNUzDkC6kuC",
        "outputId": "64a24618-118d-43ad-b6cd-5bfd056a2022"
      },
      "source": [
        "from nltk.tokenize import word_tokenize, wordpunct_tokenize\n",
        "from nltk import tokenize as tknz\n",
        "from nltk.corpus import stopwords\n",
        "import nltk\n",
        "nltk.download('punkt')"
      ],
      "execution_count": 31,
      "outputs": [
        {
          "output_type": "stream",
          "text": [
            "[nltk_data] Downloading package punkt to /root/nltk_data...\n",
            "[nltk_data]   Unzipping tokenizers/punkt.zip.\n"
          ],
          "name": "stdout"
        },
        {
          "output_type": "execute_result",
          "data": {
            "text/plain": [
              "True"
            ]
          },
          "metadata": {
            "tags": []
          },
          "execution_count": 31
        }
      ]
    },
    {
      "cell_type": "code",
      "metadata": {
        "id": "llJwQwo29gsx"
      },
      "source": [
        "combine_df['tweet_token'] = combine_df_10.apply(lambda x: nltk.tokenize.word_tokenize(x))"
      ],
      "execution_count": 32,
      "outputs": []
    },
    {
      "cell_type": "code",
      "metadata": {
        "colab": {
          "base_uri": "https://localhost:8080/",
          "height": 419
        },
        "id": "qtW8-t1J98m4",
        "outputId": "5e116884-4add-4203-a9b3-39a3d303fef0"
      },
      "source": [
        "combine_df"
      ],
      "execution_count": 33,
      "outputs": [
        {
          "output_type": "execute_result",
          "data": {
            "text/html": [
              "<div>\n",
              "<style scoped>\n",
              "    .dataframe tbody tr th:only-of-type {\n",
              "        vertical-align: middle;\n",
              "    }\n",
              "\n",
              "    .dataframe tbody tr th {\n",
              "        vertical-align: top;\n",
              "    }\n",
              "\n",
              "    .dataframe thead th {\n",
              "        text-align: right;\n",
              "    }\n",
              "</style>\n",
              "<table border=\"1\" class=\"dataframe\">\n",
              "  <thead>\n",
              "    <tr style=\"text-align: right;\">\n",
              "      <th></th>\n",
              "      <th>id</th>\n",
              "      <th>label</th>\n",
              "      <th>tweet</th>\n",
              "      <th>tweet_token</th>\n",
              "    </tr>\n",
              "  </thead>\n",
              "  <tbody>\n",
              "    <tr>\n",
              "      <th>0</th>\n",
              "      <td>1</td>\n",
              "      <td>0.0</td>\n",
              "      <td>@user when a father is dysfunctional and is s...</td>\n",
              "      <td>[when, father, is, dysfunctional, and, is, so,...</td>\n",
              "    </tr>\n",
              "    <tr>\n",
              "      <th>1</th>\n",
              "      <td>2</td>\n",
              "      <td>0.0</td>\n",
              "      <td>@user @user thanks for #lyft credit i can't us...</td>\n",
              "      <td>[thanks, for, lyft, credit, can, use, cause, t...</td>\n",
              "    </tr>\n",
              "    <tr>\n",
              "      <th>2</th>\n",
              "      <td>3</td>\n",
              "      <td>0.0</td>\n",
              "      <td>bihday your majesty</td>\n",
              "      <td>[bihday, your, majesty]</td>\n",
              "    </tr>\n",
              "    <tr>\n",
              "      <th>3</th>\n",
              "      <td>4</td>\n",
              "      <td>0.0</td>\n",
              "      <td>#model   i love u take with u all the time in ...</td>\n",
              "      <td>[model, love, take, with, all, the, time, in, ur]</td>\n",
              "    </tr>\n",
              "    <tr>\n",
              "      <th>4</th>\n",
              "      <td>5</td>\n",
              "      <td>0.0</td>\n",
              "      <td>factsguide: society now    #motivation</td>\n",
              "      <td>[factsguide, society, now, motivation]</td>\n",
              "    </tr>\n",
              "    <tr>\n",
              "      <th>...</th>\n",
              "      <td>...</td>\n",
              "      <td>...</td>\n",
              "      <td>...</td>\n",
              "      <td>...</td>\n",
              "    </tr>\n",
              "    <tr>\n",
              "      <th>49154</th>\n",
              "      <td>49155</td>\n",
              "      <td>NaN</td>\n",
              "      <td>thought factory: left-right polarisation! #tru...</td>\n",
              "      <td>[thought, factory, left, right, polarisation, ...</td>\n",
              "    </tr>\n",
              "    <tr>\n",
              "      <th>49155</th>\n",
              "      <td>49156</td>\n",
              "      <td>NaN</td>\n",
              "      <td>feeling like a mermaid ð #hairflip #neverre...</td>\n",
              "      <td>[feeling, like, mermaid, hairflip, neverready,...</td>\n",
              "    </tr>\n",
              "    <tr>\n",
              "      <th>49156</th>\n",
              "      <td>49157</td>\n",
              "      <td>NaN</td>\n",
              "      <td>#hillary #campaigned today in #ohio((omg)) &amp;am...</td>\n",
              "      <td>[hillary, campaigned, today, in, ohio, omg, am...</td>\n",
              "    </tr>\n",
              "    <tr>\n",
              "      <th>49157</th>\n",
              "      <td>49158</td>\n",
              "      <td>NaN</td>\n",
              "      <td>happy, at work conference: right mindset leads...</td>\n",
              "      <td>[happy, at, work, conference, right, mindset, ...</td>\n",
              "    </tr>\n",
              "    <tr>\n",
              "      <th>49158</th>\n",
              "      <td>49159</td>\n",
              "      <td>NaN</td>\n",
              "      <td>my   song \"so glad\" free download!  #shoegaze ...</td>\n",
              "      <td>[my, song, so, glad, free, download, shoegaze,...</td>\n",
              "    </tr>\n",
              "  </tbody>\n",
              "</table>\n",
              "<p>49159 rows × 4 columns</p>\n",
              "</div>"
            ],
            "text/plain": [
              "          id  ...                                        tweet_token\n",
              "0          1  ...  [when, father, is, dysfunctional, and, is, so,...\n",
              "1          2  ...  [thanks, for, lyft, credit, can, use, cause, t...\n",
              "2          3  ...                            [bihday, your, majesty]\n",
              "3          4  ...  [model, love, take, with, all, the, time, in, ur]\n",
              "4          5  ...             [factsguide, society, now, motivation]\n",
              "...      ...  ...                                                ...\n",
              "49154  49155  ...  [thought, factory, left, right, polarisation, ...\n",
              "49155  49156  ...  [feeling, like, mermaid, hairflip, neverready,...\n",
              "49156  49157  ...  [hillary, campaigned, today, in, ohio, omg, am...\n",
              "49157  49158  ...  [happy, at, work, conference, right, mindset, ...\n",
              "49158  49159  ...  [my, song, so, glad, free, download, shoegaze,...\n",
              "\n",
              "[49159 rows x 4 columns]"
            ]
          },
          "metadata": {
            "tags": []
          },
          "execution_count": 33
        }
      ]
    },
    {
      "cell_type": "markdown",
      "metadata": {
        "id": "VKTWFfy3_Fav"
      },
      "source": [
        "12. Удалим стоп-слова из токенов, используя nltk.corpus.stopwords. Создадим столбец 'tweet_token_filtered' без стоп-слов."
      ]
    },
    {
      "cell_type": "code",
      "metadata": {
        "id": "RfdAEQ_N-eLp"
      },
      "source": [
        "from nltk.corpus import stopwords\n"
      ],
      "execution_count": 34,
      "outputs": []
    },
    {
      "cell_type": "code",
      "metadata": {
        "colab": {
          "base_uri": "https://localhost:8080/"
        },
        "id": "Z7kFjLw7_gfy",
        "outputId": "ded5187e-0e43-4eb4-e21d-18125f27f535"
      },
      "source": [
        "combine_df_10"
      ],
      "execution_count": 35,
      "outputs": [
        {
          "output_type": "execute_result",
          "data": {
            "text/plain": [
              "0        when father is dysfunctional and is so selfish...\n",
              "1        thanks for lyft credit can use cause they don ...\n",
              "2                                      bihday your majesty\n",
              "3                  model love take with all the time in ur\n",
              "4                        factsguide society now motivation\n",
              "                               ...                        \n",
              "49154    thought factory left right polarisation trump ...\n",
              "49155    feeling like mermaid hairflip neverready forma...\n",
              "49156    hillary campaigned today in ohio omg amp used ...\n",
              "49157    happy at work conference right mindset leads t...\n",
              "49158    my song so glad free download shoegaze newmusi...\n",
              "Name: tweet, Length: 49159, dtype: object"
            ]
          },
          "metadata": {
            "tags": []
          },
          "execution_count": 35
        }
      ]
    },
    {
      "cell_type": "code",
      "metadata": {
        "colab": {
          "base_uri": "https://localhost:8080/"
        },
        "id": "ZhdSX4vqHtty",
        "outputId": "0d58f87c-e3f2-48b6-98ad-6dcb03e863bf"
      },
      "source": [
        "import nltk\n",
        "nltk.download('stopwords')"
      ],
      "execution_count": 36,
      "outputs": [
        {
          "output_type": "stream",
          "text": [
            "[nltk_data] Downloading package stopwords to /root/nltk_data...\n",
            "[nltk_data]   Unzipping corpora/stopwords.zip.\n"
          ],
          "name": "stdout"
        },
        {
          "output_type": "execute_result",
          "data": {
            "text/plain": [
              "True"
            ]
          },
          "metadata": {
            "tags": []
          },
          "execution_count": 36
        }
      ]
    },
    {
      "cell_type": "code",
      "metadata": {
        "colab": {
          "base_uri": "https://localhost:8080/",
          "height": 419
        },
        "id": "nOjy5LDI-kWA",
        "outputId": "6fc5d913-edcd-411e-88a9-33db37fa307f"
      },
      "source": [
        "stop_words = set(stopwords.words(\"english\"))\n",
        "# sentence = \"Backgammon is one of the oldest known board games.\"\n",
        "\n",
        "\n",
        "combine_df['tweet_token_filtered'] = combine_df['tweet_token'].apply(lambda x: [word for word in x if not word in stop_words])\n",
        "combine_df"
      ],
      "execution_count": 37,
      "outputs": [
        {
          "output_type": "execute_result",
          "data": {
            "text/html": [
              "<div>\n",
              "<style scoped>\n",
              "    .dataframe tbody tr th:only-of-type {\n",
              "        vertical-align: middle;\n",
              "    }\n",
              "\n",
              "    .dataframe tbody tr th {\n",
              "        vertical-align: top;\n",
              "    }\n",
              "\n",
              "    .dataframe thead th {\n",
              "        text-align: right;\n",
              "    }\n",
              "</style>\n",
              "<table border=\"1\" class=\"dataframe\">\n",
              "  <thead>\n",
              "    <tr style=\"text-align: right;\">\n",
              "      <th></th>\n",
              "      <th>id</th>\n",
              "      <th>label</th>\n",
              "      <th>tweet</th>\n",
              "      <th>tweet_token</th>\n",
              "      <th>tweet_token_filtered</th>\n",
              "    </tr>\n",
              "  </thead>\n",
              "  <tbody>\n",
              "    <tr>\n",
              "      <th>0</th>\n",
              "      <td>1</td>\n",
              "      <td>0.0</td>\n",
              "      <td>@user when a father is dysfunctional and is s...</td>\n",
              "      <td>[when, father, is, dysfunctional, and, is, so,...</td>\n",
              "      <td>[father, dysfunctional, selfish, drags, kids, ...</td>\n",
              "    </tr>\n",
              "    <tr>\n",
              "      <th>1</th>\n",
              "      <td>2</td>\n",
              "      <td>0.0</td>\n",
              "      <td>@user @user thanks for #lyft credit i can't us...</td>\n",
              "      <td>[thanks, for, lyft, credit, can, use, cause, t...</td>\n",
              "      <td>[thanks, lyft, credit, use, cause, offer, whee...</td>\n",
              "    </tr>\n",
              "    <tr>\n",
              "      <th>2</th>\n",
              "      <td>3</td>\n",
              "      <td>0.0</td>\n",
              "      <td>bihday your majesty</td>\n",
              "      <td>[bihday, your, majesty]</td>\n",
              "      <td>[bihday, majesty]</td>\n",
              "    </tr>\n",
              "    <tr>\n",
              "      <th>3</th>\n",
              "      <td>4</td>\n",
              "      <td>0.0</td>\n",
              "      <td>#model   i love u take with u all the time in ...</td>\n",
              "      <td>[model, love, take, with, all, the, time, in, ur]</td>\n",
              "      <td>[model, love, take, time, ur]</td>\n",
              "    </tr>\n",
              "    <tr>\n",
              "      <th>4</th>\n",
              "      <td>5</td>\n",
              "      <td>0.0</td>\n",
              "      <td>factsguide: society now    #motivation</td>\n",
              "      <td>[factsguide, society, now, motivation]</td>\n",
              "      <td>[factsguide, society, motivation]</td>\n",
              "    </tr>\n",
              "    <tr>\n",
              "      <th>...</th>\n",
              "      <td>...</td>\n",
              "      <td>...</td>\n",
              "      <td>...</td>\n",
              "      <td>...</td>\n",
              "      <td>...</td>\n",
              "    </tr>\n",
              "    <tr>\n",
              "      <th>49154</th>\n",
              "      <td>49155</td>\n",
              "      <td>NaN</td>\n",
              "      <td>thought factory: left-right polarisation! #tru...</td>\n",
              "      <td>[thought, factory, left, right, polarisation, ...</td>\n",
              "      <td>[thought, factory, left, right, polarisation, ...</td>\n",
              "    </tr>\n",
              "    <tr>\n",
              "      <th>49155</th>\n",
              "      <td>49156</td>\n",
              "      <td>NaN</td>\n",
              "      <td>feeling like a mermaid ð #hairflip #neverre...</td>\n",
              "      <td>[feeling, like, mermaid, hairflip, neverready,...</td>\n",
              "      <td>[feeling, like, mermaid, hairflip, neverready,...</td>\n",
              "    </tr>\n",
              "    <tr>\n",
              "      <th>49156</th>\n",
              "      <td>49157</td>\n",
              "      <td>NaN</td>\n",
              "      <td>#hillary #campaigned today in #ohio((omg)) &amp;am...</td>\n",
              "      <td>[hillary, campaigned, today, in, ohio, omg, am...</td>\n",
              "      <td>[hillary, campaigned, today, ohio, omg, amp, u...</td>\n",
              "    </tr>\n",
              "    <tr>\n",
              "      <th>49157</th>\n",
              "      <td>49158</td>\n",
              "      <td>NaN</td>\n",
              "      <td>happy, at work conference: right mindset leads...</td>\n",
              "      <td>[happy, at, work, conference, right, mindset, ...</td>\n",
              "      <td>[happy, work, conference, right, mindset, lead...</td>\n",
              "    </tr>\n",
              "    <tr>\n",
              "      <th>49158</th>\n",
              "      <td>49159</td>\n",
              "      <td>NaN</td>\n",
              "      <td>my   song \"so glad\" free download!  #shoegaze ...</td>\n",
              "      <td>[my, song, so, glad, free, download, shoegaze,...</td>\n",
              "      <td>[song, glad, free, download, shoegaze, newmusi...</td>\n",
              "    </tr>\n",
              "  </tbody>\n",
              "</table>\n",
              "<p>49159 rows × 5 columns</p>\n",
              "</div>"
            ],
            "text/plain": [
              "          id  ...                               tweet_token_filtered\n",
              "0          1  ...  [father, dysfunctional, selfish, drags, kids, ...\n",
              "1          2  ...  [thanks, lyft, credit, use, cause, offer, whee...\n",
              "2          3  ...                                  [bihday, majesty]\n",
              "3          4  ...                      [model, love, take, time, ur]\n",
              "4          5  ...                  [factsguide, society, motivation]\n",
              "...      ...  ...                                                ...\n",
              "49154  49155  ...  [thought, factory, left, right, polarisation, ...\n",
              "49155  49156  ...  [feeling, like, mermaid, hairflip, neverready,...\n",
              "49156  49157  ...  [hillary, campaigned, today, ohio, omg, amp, u...\n",
              "49157  49158  ...  [happy, work, conference, right, mindset, lead...\n",
              "49158  49159  ...  [song, glad, free, download, shoegaze, newmusi...\n",
              "\n",
              "[49159 rows x 5 columns]"
            ]
          },
          "metadata": {
            "tags": []
          },
          "execution_count": 37
        }
      ]
    },
    {
      "cell_type": "markdown",
      "metadata": {
        "id": "GNG-BZuF_Fav"
      },
      "source": [
        "13. Применим стемминг к токенам с помощью nltk.stem.PorterStemmer. Создадим столбец 'tweet_stemmed' после применения стемминга."
      ]
    },
    {
      "cell_type": "code",
      "metadata": {
        "id": "dKeQraXSE4i7"
      },
      "source": [
        "from nltk.stem import PorterStemmer, WordNetLemmatizer\n",
        "from nltk.corpus import wordnet\n",
        "\n",
        "def compare_stemmer_and_lemmatizer(stemmer, lemmatizer, word, pos):\n",
        "    \"\"\"\n",
        "    Print the results of stemmind and lemmitization using the passed stemmer, lemmatizer, word and pos (part of speech)\n",
        "    \"\"\"\n",
        "    print(\"Stemmer:\", stemmer.stem(word))\n",
        "    print(\"Lemmatizer:\", lemmatizer.lemmatize(word, pos))\n",
        "    print()\n",
        "\n",
        "lemmatizer = WordNetLemmatizer()\n",
        "stemmer = PorterStemmer()\n"
      ],
      "execution_count": 38,
      "outputs": []
    },
    {
      "cell_type": "code",
      "metadata": {
        "id": "zDWHVxijCmqE"
      },
      "source": [
        "combine_df['tweet_stemmed'] = combine_df['tweet_token_filtered'].apply(lambda x: [stemmer.stem(word) for word in x])\n"
      ],
      "execution_count": 39,
      "outputs": []
    },
    {
      "cell_type": "code",
      "metadata": {
        "colab": {
          "base_uri": "https://localhost:8080/"
        },
        "id": "MN1FiqV1GNEF",
        "outputId": "aadf88a9-2aec-45dc-de8a-10ea2eb8a3a4"
      },
      "source": [
        "combine_df['tweet_stemmed']"
      ],
      "execution_count": 40,
      "outputs": [
        {
          "output_type": "execute_result",
          "data": {
            "text/plain": [
              "0        [father, dysfunct, selfish, drag, kid, dysfunc...\n",
              "1        [thank, lyft, credit, use, caus, offer, wheelc...\n",
              "2                                        [bihday, majesti]\n",
              "3                            [model, love, take, time, ur]\n",
              "4                              [factsguid, societi, motiv]\n",
              "                               ...                        \n",
              "49154    [thought, factori, left, right, polaris, trump...\n",
              "49155    [feel, like, mermaid, hairflip, neverreadi, fo...\n",
              "49156    [hillari, campaign, today, ohio, omg, amp, use...\n",
              "49157    [happi, work, confer, right, mindset, lead, cu...\n",
              "49158    [song, glad, free, download, shoegaz, newmus, ...\n",
              "Name: tweet_stemmed, Length: 49159, dtype: object"
            ]
          },
          "metadata": {
            "tags": []
          },
          "execution_count": 40
        }
      ]
    },
    {
      "cell_type": "markdown",
      "metadata": {
        "id": "5hN6TMQ__Faw"
      },
      "source": [
        "14. Применим лемматизацию к токенам с помощью nltk.stem.wordnet.WordNetLemmatizer. Создадим столбец 'tweet_lemmatized' после применения лемматизации."
      ]
    },
    {
      "cell_type": "code",
      "metadata": {
        "colab": {
          "base_uri": "https://localhost:8080/"
        },
        "id": "ky3LJ4v_Gll0",
        "outputId": "bb1e2031-4464-4904-e851-07fba7b2f969"
      },
      "source": [
        "import nltk\n",
        "nltk.download('wordnet')"
      ],
      "execution_count": 41,
      "outputs": [
        {
          "output_type": "stream",
          "text": [
            "[nltk_data] Downloading package wordnet to /root/nltk_data...\n",
            "[nltk_data]   Unzipping corpora/wordnet.zip.\n"
          ],
          "name": "stdout"
        },
        {
          "output_type": "execute_result",
          "data": {
            "text/plain": [
              "True"
            ]
          },
          "metadata": {
            "tags": []
          },
          "execution_count": 41
        }
      ]
    },
    {
      "cell_type": "code",
      "metadata": {
        "id": "4x6ShpXfE1iB"
      },
      "source": [
        "combine_df['tweet_lemmatized'] = combine_df['tweet_token_filtered'].apply(lambda x: [lemmatizer.lemmatize(word) for word in x])\n"
      ],
      "execution_count": 46,
      "outputs": []
    },
    {
      "cell_type": "markdown",
      "metadata": {
        "id": "cJfaZJof_Faw"
      },
      "source": [
        "15. Сохраним результат предобработки в pickle-файл."
      ]
    },
    {
      "cell_type": "code",
      "metadata": {
        "id": "07szLfuk_Faw"
      },
      "source": [
        "import pickle\n",
        "\n",
        "combine_df.to_pickle('/content/drive/MyDrive/Colab Notebooks/Обработка естественного языка/1/combine_df.pickle')\n",
        "\n",
        "\n",
        "\n"
      ],
      "execution_count": 47,
      "outputs": []
    },
    {
      "cell_type": "markdown",
      "metadata": {
        "id": "VZf2cvMuIIW6"
      },
      "source": [
        "Откроем файл"
      ]
    },
    {
      "cell_type": "code",
      "metadata": {
        "id": "KhqDsc6qIHa1"
      },
      "source": [
        "with open('/content/drive/MyDrive/Colab Notebooks/Обработка естественного языка/1/combine_df.pickle', 'rb') as f:\n",
        "     new_dataframe = pickle.load(f)"
      ],
      "execution_count": 48,
      "outputs": []
    },
    {
      "cell_type": "code",
      "metadata": {
        "colab": {
          "base_uri": "https://localhost:8080/",
          "height": 572
        },
        "id": "Iy3tEUVPH5QR",
        "outputId": "f842af7e-3310-48d0-e606-e4da22cb0b0b"
      },
      "source": [
        "new_dataframe"
      ],
      "execution_count": 49,
      "outputs": [
        {
          "output_type": "execute_result",
          "data": {
            "text/html": [
              "<div>\n",
              "<style scoped>\n",
              "    .dataframe tbody tr th:only-of-type {\n",
              "        vertical-align: middle;\n",
              "    }\n",
              "\n",
              "    .dataframe tbody tr th {\n",
              "        vertical-align: top;\n",
              "    }\n",
              "\n",
              "    .dataframe thead th {\n",
              "        text-align: right;\n",
              "    }\n",
              "</style>\n",
              "<table border=\"1\" class=\"dataframe\">\n",
              "  <thead>\n",
              "    <tr style=\"text-align: right;\">\n",
              "      <th></th>\n",
              "      <th>id</th>\n",
              "      <th>label</th>\n",
              "      <th>tweet</th>\n",
              "      <th>tweet_token</th>\n",
              "      <th>tweet_token_filtered</th>\n",
              "      <th>tweet_stemmed</th>\n",
              "      <th>tweet_lemmatized</th>\n",
              "    </tr>\n",
              "  </thead>\n",
              "  <tbody>\n",
              "    <tr>\n",
              "      <th>0</th>\n",
              "      <td>1</td>\n",
              "      <td>0.0</td>\n",
              "      <td>@user when a father is dysfunctional and is s...</td>\n",
              "      <td>[when, father, is, dysfunctional, and, is, so,...</td>\n",
              "      <td>[father, dysfunctional, selfish, drags, kids, ...</td>\n",
              "      <td>[father, dysfunct, selfish, drag, kid, dysfunc...</td>\n",
              "      <td>[father, dysfunctional, selfish, drag, kid, dy...</td>\n",
              "    </tr>\n",
              "    <tr>\n",
              "      <th>1</th>\n",
              "      <td>2</td>\n",
              "      <td>0.0</td>\n",
              "      <td>@user @user thanks for #lyft credit i can't us...</td>\n",
              "      <td>[thanks, for, lyft, credit, can, use, cause, t...</td>\n",
              "      <td>[thanks, lyft, credit, use, cause, offer, whee...</td>\n",
              "      <td>[thank, lyft, credit, use, caus, offer, wheelc...</td>\n",
              "      <td>[thanks, lyft, credit, use, cause, offer, whee...</td>\n",
              "    </tr>\n",
              "    <tr>\n",
              "      <th>2</th>\n",
              "      <td>3</td>\n",
              "      <td>0.0</td>\n",
              "      <td>bihday your majesty</td>\n",
              "      <td>[bihday, your, majesty]</td>\n",
              "      <td>[bihday, majesty]</td>\n",
              "      <td>[bihday, majesti]</td>\n",
              "      <td>[bihday, majesty]</td>\n",
              "    </tr>\n",
              "    <tr>\n",
              "      <th>3</th>\n",
              "      <td>4</td>\n",
              "      <td>0.0</td>\n",
              "      <td>#model   i love u take with u all the time in ...</td>\n",
              "      <td>[model, love, take, with, all, the, time, in, ur]</td>\n",
              "      <td>[model, love, take, time, ur]</td>\n",
              "      <td>[model, love, take, time, ur]</td>\n",
              "      <td>[model, love, take, time, ur]</td>\n",
              "    </tr>\n",
              "    <tr>\n",
              "      <th>4</th>\n",
              "      <td>5</td>\n",
              "      <td>0.0</td>\n",
              "      <td>factsguide: society now    #motivation</td>\n",
              "      <td>[factsguide, society, now, motivation]</td>\n",
              "      <td>[factsguide, society, motivation]</td>\n",
              "      <td>[factsguid, societi, motiv]</td>\n",
              "      <td>[factsguide, society, motivation]</td>\n",
              "    </tr>\n",
              "    <tr>\n",
              "      <th>...</th>\n",
              "      <td>...</td>\n",
              "      <td>...</td>\n",
              "      <td>...</td>\n",
              "      <td>...</td>\n",
              "      <td>...</td>\n",
              "      <td>...</td>\n",
              "      <td>...</td>\n",
              "    </tr>\n",
              "    <tr>\n",
              "      <th>49154</th>\n",
              "      <td>49155</td>\n",
              "      <td>NaN</td>\n",
              "      <td>thought factory: left-right polarisation! #tru...</td>\n",
              "      <td>[thought, factory, left, right, polarisation, ...</td>\n",
              "      <td>[thought, factory, left, right, polarisation, ...</td>\n",
              "      <td>[thought, factori, left, right, polaris, trump...</td>\n",
              "      <td>[thought, factory, left, right, polarisation, ...</td>\n",
              "    </tr>\n",
              "    <tr>\n",
              "      <th>49155</th>\n",
              "      <td>49156</td>\n",
              "      <td>NaN</td>\n",
              "      <td>feeling like a mermaid ð #hairflip #neverre...</td>\n",
              "      <td>[feeling, like, mermaid, hairflip, neverready,...</td>\n",
              "      <td>[feeling, like, mermaid, hairflip, neverready,...</td>\n",
              "      <td>[feel, like, mermaid, hairflip, neverreadi, fo...</td>\n",
              "      <td>[feeling, like, mermaid, hairflip, neverready,...</td>\n",
              "    </tr>\n",
              "    <tr>\n",
              "      <th>49156</th>\n",
              "      <td>49157</td>\n",
              "      <td>NaN</td>\n",
              "      <td>#hillary #campaigned today in #ohio((omg)) &amp;am...</td>\n",
              "      <td>[hillary, campaigned, today, in, ohio, omg, am...</td>\n",
              "      <td>[hillary, campaigned, today, ohio, omg, amp, u...</td>\n",
              "      <td>[hillari, campaign, today, ohio, omg, amp, use...</td>\n",
              "      <td>[hillary, campaigned, today, ohio, omg, amp, u...</td>\n",
              "    </tr>\n",
              "    <tr>\n",
              "      <th>49157</th>\n",
              "      <td>49158</td>\n",
              "      <td>NaN</td>\n",
              "      <td>happy, at work conference: right mindset leads...</td>\n",
              "      <td>[happy, at, work, conference, right, mindset, ...</td>\n",
              "      <td>[happy, work, conference, right, mindset, lead...</td>\n",
              "      <td>[happi, work, confer, right, mindset, lead, cu...</td>\n",
              "      <td>[happy, work, conference, right, mindset, lead...</td>\n",
              "    </tr>\n",
              "    <tr>\n",
              "      <th>49158</th>\n",
              "      <td>49159</td>\n",
              "      <td>NaN</td>\n",
              "      <td>my   song \"so glad\" free download!  #shoegaze ...</td>\n",
              "      <td>[my, song, so, glad, free, download, shoegaze,...</td>\n",
              "      <td>[song, glad, free, download, shoegaze, newmusi...</td>\n",
              "      <td>[song, glad, free, download, shoegaz, newmus, ...</td>\n",
              "      <td>[song, glad, free, download, shoegaze, newmusi...</td>\n",
              "    </tr>\n",
              "  </tbody>\n",
              "</table>\n",
              "<p>49159 rows × 7 columns</p>\n",
              "</div>"
            ],
            "text/plain": [
              "          id  ...                                   tweet_lemmatized\n",
              "0          1  ...  [father, dysfunctional, selfish, drag, kid, dy...\n",
              "1          2  ...  [thanks, lyft, credit, use, cause, offer, whee...\n",
              "2          3  ...                                  [bihday, majesty]\n",
              "3          4  ...                      [model, love, take, time, ur]\n",
              "4          5  ...                  [factsguide, society, motivation]\n",
              "...      ...  ...                                                ...\n",
              "49154  49155  ...  [thought, factory, left, right, polarisation, ...\n",
              "49155  49156  ...  [feeling, like, mermaid, hairflip, neverready,...\n",
              "49156  49157  ...  [hillary, campaigned, today, ohio, omg, amp, u...\n",
              "49157  49158  ...  [happy, work, conference, right, mindset, lead...\n",
              "49158  49159  ...  [song, glad, free, download, shoegaze, newmusi...\n",
              "\n",
              "[49159 rows x 7 columns]"
            ]
          },
          "metadata": {
            "tags": []
          },
          "execution_count": 49
        }
      ]
    }
  ]
}